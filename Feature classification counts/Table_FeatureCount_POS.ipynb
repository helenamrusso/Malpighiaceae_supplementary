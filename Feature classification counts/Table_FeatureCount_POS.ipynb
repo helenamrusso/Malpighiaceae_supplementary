{
 "cells": [
  {
   "cell_type": "code",
   "execution_count": 1,
   "metadata": {},
   "outputs": [],
   "source": [
    "import pandas as pd\n",
    "import matplotlib.pyplot as plt\n",
    "import numpy as np"
   ]
  },
  {
   "cell_type": "code",
   "execution_count": null,
   "metadata": {},
   "outputs": [],
   "source": [
    "# In case you want to filter the data to retain features from only a specific superclass\n",
    "\n",
    "canopus = pd.read_csv ('Malpigh_Filter_EtOH80_NEG_CANOPUS.txt', sep='\\t')\n",
    "\n",
    "filter_by_superclass = 'Benzenoids'  # Select the desired superclass\n",
    "filtered = canopus.loc[canopus['canopus_superclass'] == filter_by_superclass]\n",
    "\n",
    "filtered.to_csv(\"Malpigh_Filter_EtOH80_NEG_CANOPUS_benzenoids.tsv\",sep='\\t',index=True) "
   ]
  },
  {
   "cell_type": "code",
   "execution_count": 3,
   "metadata": {},
   "outputs": [],
   "source": [
    "#  Create binary matrices of ClassyFire chemical classes at the direct parent and subclass level \n",
    "\n",
    "canopus = pd.read_csv ('Malpigh_Filter_EtOH80_POS_CANOPUS.txt', sep='\\t')\n",
    "ft = pd.read_csv ('Malpigh_Filtered_EtOH80_FeatureTable_POS_samplenames_updated.csv', sep=';')\n",
    "ft = ft.rename(columns = {'sample_name':'cluster.index'})\n",
    "\n",
    "comb = pd.merge(canopus, ft, on = 'cluster.index')\n",
    "\n",
    "taxons = ['canopus_superclass', 'canopus_class', 'canopus_subclass', \n",
    "       'canopus_level5','canopus_most_specific_class']\n",
    "\n",
    "hierarchical_df = comb.groupby(taxons).sum() #sum or whatever is most appropiate for your data\n",
    "\n",
    "hierarchical_df.to_csv(\"hierarchical_CANOPUS_POS.tsv\",sep='\\t',index=True)"
   ]
  },
  {
   "cell_type": "code",
   "execution_count": 4,
   "metadata": {},
   "outputs": [],
   "source": [
    "# Create binary matrix of CANOPUS chemical classes at the superclass level\n",
    "\n",
    "df = pd.read_csv('hierarchical_CANOPUS_POS.tsv',sep='\\t')\n",
    "taxons = ['canopus_superclass', 'canopus_class', 'canopus_subclass', \n",
    "       'canopus_level5','canopus_most_specific_class']\n",
    "df = df[taxons]\n",
    "df['type'] = df[['canopus_superclass', 'canopus_class', \n",
    "       'canopus_level5','canopus_most_specific_class']].values.tolist()  #remove the one you want to keep\n",
    "\n",
    "en = pd.get_dummies(df.type.apply(lambda x: pd.Series([i for i in x])))\n",
    "en.index = df.canopus_subclass    #select classification hierarchy\n",
    "en = en[~en.index.duplicated(keep='first')]\n",
    "\n",
    "en.to_csv(\"classlist_subclass_POS.tsv\",sep='\\t',index=True)"
   ]
  },
  {
   "cell_type": "code",
   "execution_count": 2,
   "metadata": {},
   "outputs": [],
   "source": [
    "# Create count matrix of chemical subclasses   \n",
    "\n",
    "canopus = pd.read_csv ('Malpigh_Filter_EtOH80_POS_CANOPUS.txt', sep='\\t')\n",
    "ft = pd.read_csv ('Malpigh_Filtered_EtOH80_FeatureTable_POS_samplenames_updated.csv', sep=';')"
   ]
  },
  {
   "cell_type": "code",
   "execution_count": 3,
   "metadata": {},
   "outputs": [],
   "source": [
    "#introduce cut-off of min. intensity 1000\n",
    "\n",
    "rowID = list(ft['sample_name'])\n",
    "ft[ft < 1000] = 0\n",
    "ft['sample_name'] = rowID"
   ]
  },
  {
   "cell_type": "code",
   "execution_count": 9,
   "metadata": {},
   "outputs": [],
   "source": [
    "#introduce cut-off of min. intensity 1000\n",
    "\n",
    "ft = ft.rename(columns = {'sample_name':'cluster.index'})\n",
    "\n",
    "comb = pd.merge(canopus, ft, on=\"cluster.index\")\n",
    "\n",
    "supercl = comb.canopus_subclass.unique()   #select classification hierarchy\n",
    "\n",
    "supercl_df = []\n",
    "for i in range(len(supercl)):\n",
    "    sel = comb.loc[comb['canopus_subclass'] == supercl[i]]   #select classification hierarchy\n",
    "    out = sel.astype(bool).sum(axis=0)\n",
    "    out = out.to_dict()\n",
    "    supercl_df.append(out)\n",
    "    \n",
    "\n",
    "df = pd.DataFrame(supercl_df)\n",
    "df.insert(loc=0, column='id', value= list(supercl))\n",
    "df = df.drop('cluster.index', 1)\n",
    "df = df[df.columns.drop(list(df.filter(regex='canopus')))] # this dataframe contains samples in columns and superclasses in rows, the numeric values describe number of molecules within the corresponding superclasses\n",
    "\n",
    "df.to_csv(\"featuretable_updated_subclass_POS_cutoff1000.tsv\",sep='\\t',index=False)"
   ]
  },
  {
   "cell_type": "code",
   "execution_count": 10,
   "metadata": {},
   "outputs": [],
   "source": [
    "########################"
   ]
  },
  {
   "cell_type": "code",
   "execution_count": 11,
   "metadata": {},
   "outputs": [],
   "source": [
    "#group by genera, if desired.\n",
    "\n",
    "df = pd.read_csv('featuretable_updated_subclass_POS_cutoff1000.tsv', sep='\\t')\n",
    "df.columns = [col_name.split('_')[0] for col_name in df.columns]\n",
    "df_agregado = df.groupby(df.columns, axis=1).sum()\n",
    "df_agregado = df_agregado.set_index(['id'])\n",
    "df_agregado.to_csv('featuretable_updated_subclass_POS_cutoff1000_genera.tsv', sep='\\t')"
   ]
  },
  {
   "cell_type": "code",
   "execution_count": null,
   "metadata": {},
   "outputs": [],
   "source": []
  }
 ],
 "metadata": {
  "kernelspec": {
   "display_name": "Python 3",
   "language": "python",
   "name": "python3"
  },
  "language_info": {
   "codemirror_mode": {
    "name": "ipython",
    "version": 3
   },
   "file_extension": ".py",
   "mimetype": "text/x-python",
   "name": "python",
   "nbconvert_exporter": "python",
   "pygments_lexer": "ipython3",
   "version": "3.7.6"
  }
 },
 "nbformat": 4,
 "nbformat_minor": 4
}
