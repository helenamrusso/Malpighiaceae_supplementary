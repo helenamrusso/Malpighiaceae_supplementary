{
 "cells": [
  {
   "cell_type": "code",
   "execution_count": 1,
   "metadata": {},
   "outputs": [],
   "source": [
    "import qiime2\n",
    "import os\n",
    "import pandas as pd"
   ]
  },
  {
   "cell_type": "code",
   "execution_count": 28,
   "metadata": {},
   "outputs": [],
   "source": [
    "#import feature table as .csv\n",
    "\n",
    "ftable=pd.read_csv('/Users/helenarusso/Qiime2/Malpighiaceae/Qemistree_FilteredEtOH80/Qemistree_NEG/Teste_Sirius_482/Qemistree_foodomics_quant.csv', \n",
    "                     sep=';', index_col='sample_name')"
   ]
  },
  {
   "cell_type": "code",
   "execution_count": 29,
   "metadata": {},
   "outputs": [],
   "source": [
    "#format for qiime2 conversion\n",
    "\n",
    "ftable.reset_index().to_csv(\n",
    "    '/Users/helenarusso/Qiime2/Malpighiaceae/Qemistree_FilteredEtOH80/Qemistree_NEG/Teste_Sirius_482/Qemistree_foodomics_quant.txt', \n",
    "    sep='\\t', index=False)"
   ]
  },
  {
   "cell_type": "code",
   "execution_count": 30,
   "metadata": {},
   "outputs": [
    {
     "name": "stderr",
     "output_type": "stream",
     "text": [
      "bash: line 2: activate: No such file or directory\n"
     ]
    }
   ],
   "source": [
    "%%bash\n",
    "\n",
    "source activate qiime2-2020.1\n",
    "\n",
    "biom convert -i '/Users/helenarusso/Qiime2/Malpighiaceae/Qemistree_FilteredEtOH80/Qemistree_NEG/Teste_Sirius_482/Qemistree_foodomics_quant.txt' \\\n",
    "-o '/Users/helenarusso/Qiime2/Malpighiaceae/Qemistree_FilteredEtOH80/Qemistree_NEG/Teste_Sirius_482/Qemistree_foodomics_quant.biom' --to-hdf5"
   ]
  },
  {
   "cell_type": "code",
   "execution_count": 31,
   "metadata": {},
   "outputs": [
    {
     "name": "stdout",
     "output_type": "stream",
     "text": [
      "Imported /Users/helenarusso/Qiime2/Malpighiaceae/Qemistree_FilteredEtOH80/Qemistree_NEG/Teste_Sirius_482/Qemistree_foodomics_quant.biom as BIOMV210DirFmt to /Users/helenarusso/Qiime2/Malpighiaceae/Qemistree_FilteredEtOH80/Qemistree_NEG/Teste_Sirius_482/Qemistree_foodomics_quant.qza\n"
     ]
    },
    {
     "name": "stderr",
     "output_type": "stream",
     "text": [
      "bash: line 2: activate: No such file or directory\n"
     ]
    }
   ],
   "source": [
    "%%bash\n",
    "\n",
    "source activate qiime2-2020.2\n",
    "\n",
    "qiime tools import --input-path '/Users/helenarusso/Qiime2/Malpighiaceae/Qemistree_FilteredEtOH80/Qemistree_NEG/Teste_Sirius_482/Qemistree_foodomics_quant.biom' \\\n",
    "--output-path '/Users/helenarusso/Qiime2/Malpighiaceae/Qemistree_FilteredEtOH80/Qemistree_NEG/Teste_Sirius_482/Qemistree_foodomics_quant.qza' \\\n",
    "--type FeatureTable[Frequency]"
   ]
  },
  {
   "cell_type": "code",
   "execution_count": 6,
   "metadata": {},
   "outputs": [
    {
     "name": "stdout",
     "output_type": "stream",
     "text": [
      "Imported Malpighiaceae_Filtered_EtOH80_NEG_Sirius_MergeMSMS_600a1200.mgf as MGFFile to Malpighiaceae_Filtered_EtOH80_NEG_Sirius_MergeMSMS_600a1200.mgf.qza\n"
     ]
    },
    {
     "name": "stderr",
     "output_type": "stream",
     "text": [
      "bash: line 2: activate: No such file or directory\n"
     ]
    }
   ],
   "source": [
    "%%bash\n",
    "\n",
    "source activate qiime2-2020.2\n",
    "\n",
    "qiime tools import --input-path Malpighiaceae_Filtered_EtOH80_NEG_Sirius_MergeMSMS_600a1200.mgf \\\n",
    "--output-path Malpighiaceae_Filtered_EtOH80_NEG_Sirius_MergeMSMS_600a1200.mgf.qza \\\n",
    "--type MassSpectrometryFeatures"
   ]
  },
  {
   "cell_type": "code",
   "execution_count": null,
   "metadata": {},
   "outputs": [],
   "source": [
    "%%bash\n",
    "\n",
    "source activate qiime2-2020.2\n",
    "\n",
    "qiime qemistree compute-fragmentation-trees \\\n",
    "  --i-features Test_sirius.mgf.qza \\\n",
    "  --p-sirius-path '/Users/helenarusso/Desktop/sirius.app/Contents/MacOS' \\\n",
    "  --p-n-jobs 8 \\\n",
    "  --p-ppm-max 20 \\\n",
    "  --p-profile qtof \\\n",
    "  --p-maxmz 1200 \\\n",
    "  --p-tree-timeout 1600 \\\n",
    "  --p-num-candidates 50 \\\n",
    "  --p-ionization-mode '[M+H]+' \\\n",
    "  --p-java-flags \"-Djava.io.tmpdir=/Users/helenarusso/ -Xms32G -Xmx54G\" \\\n",
    "  --o-fragmentation-trees Test_sirius_fragmentation_trees_sirius482.qza \\"
   ]
  },
  {
   "cell_type": "code",
   "execution_count": 15,
   "metadata": {
    "scrolled": true
   },
   "outputs": [
    {
     "name": "stdout",
     "output_type": "stream",
     "text": [
      "Running external command line application. This may print messages to stdout and/or stderr.\n",
      "The command being run is below. This command cannot be manually re-run as it will depend on temporary files that no longer exist.\n",
      "\n",
      "Command: /Users/helenarusso/Desktop/sirius.app/Contents/MacOS/sirius -o /var/folders/pj/_vwpjzj17kdbmdnz5sksrq0w0000gn/T/q2-ZodiacDirFmt-5nzrlp45/zodiac-output -i /var/folders/pj/_vwpjzj17kdbmdnz5sksrq0w0000gn/T/qiime2-archive-e6h9kkrn/e85b69e4-3cd6-4ff7-969d-0f8b7d8d71b4/data/sirius-output --processors 8 zodiac --thresholdFilter 0.98\n",
      "\n",
      "Saved ZodiacFolder to: Malpigh_Filter_POS_EtOH80_molecular_formulas_sirius482.qza\n"
     ]
    },
    {
     "name": "stderr",
     "output_type": "stream",
     "text": [
      "bash: line 2: activate: No such file or directory\n"
     ]
    }
   ],
   "source": [
    "%%bash\n",
    "\n",
    "source activate qiime2-2020.2\n",
    "\n",
    "qiime qemistree rerank-molecular-formulas \\\n",
    "  --p-sirius-path '/Users/helenarusso/Desktop/sirius.app/Contents/MacOS' \\\n",
    "  --i-features Malpighiaceae_Filtered_EtOH80_POS_Sirius_MergeMSMS.mgf.qza \\\n",
    "  --i-fragmentation-trees Malpigh_Filter_POS_EtOH80_fragmentation_trees_sirius482.qza \\\n",
    "  --p-n-jobs 8 \\\n",
    "  --p-zodiac-threshold 0.98 \\\n",
    "  --p-java-flags '-Djava.io.tmpdir=/Users/helenarusso/ -Xms45G -Xmx60G' \\\n",
    "  --o-molecular-formulas Malpigh_Filter_POS_EtOH80_molecular_formulas_sirius482.qza \\\n",
    "  --verbose"
   ]
  },
  {
   "cell_type": "code",
   "execution_count": 2,
   "metadata": {},
   "outputs": [
    {
     "name": "stdout",
     "output_type": "stream",
     "text": [
      "Saved CSIFolder to: Malpigh_Filter_POS_EtOH80_fingerprints_sirius482.qza\n"
     ]
    },
    {
     "name": "stderr",
     "output_type": "stream",
     "text": [
      "bash: line 2: activate: No such file or directory\n"
     ]
    }
   ],
   "source": [
    "%%bash \n",
    "\n",
    "source activate qiime2-2020.2\n",
    "\n",
    "qiime qemistree predict-fingerprints \\\n",
    "  --i-molecular-formulas Malpigh_Filter_POS_EtOH80_molecular_formulas_sirius482.qza \\\n",
    "  --p-sirius-path '/Users/helenarusso/Desktop/sirius.app/Contents/MacOS' \\\n",
    "  --p-n-jobs 8 \\\n",
    "  --p-java-flags '-Djava.io.tmpdir=/Users/helenarusso/ -Xms45G -Xmx60G' \\\n",
    "  --p-ppm-max 20 \\\n",
    "  --p-fingerid-db 'all' \\\n",
    "  --o-predicted-fingerprints Malpigh_Filter_POS_EtOH80_fingerprints_sirius482.qza"
   ]
  },
  {
   "cell_type": "code",
   "execution_count": 2,
   "metadata": {
    "scrolled": true
   },
   "outputs": [
    {
     "name": "stdout",
     "output_type": "stream",
     "text": [
      "Imported e75bb5058b4e4c84afadc274a0391e20.tsv as TSVMoleculesFormat to MS2-spectral-matches_e75bb5058b4e4c84afadc274a0391e20.qza\n"
     ]
    },
    {
     "name": "stderr",
     "output_type": "stream",
     "text": [
      "bash: line 2: activate: No such file or directory\n"
     ]
    }
   ],
   "source": [
    "%%bash \n",
    "\n",
    "source activate qiime2-2020.2\n",
    "\n",
    "qiime tools import \\\n",
    "  --input-path e75bb5058b4e4c84afadc274a0391e20.tsv \\\n",
    "  --output-path MS2-spectral-matches_e75bb5058b4e4c84afadc274a0391e20.qza \\\n",
    "  --type FeatureData[Molecules]"
   ]
  },
  {
   "cell_type": "code",
   "execution_count": 3,
   "metadata": {},
   "outputs": [
    {
     "name": "stdout",
     "output_type": "stream",
     "text": [
      "Saved Phylogeny[Rooted] to: Malpigh_Filter_POS_EtOH80_qemistree_sirius482.qza\n",
      "Saved FeatureTable[Frequency] to: Malpigh_Filter_POS_EtOH80_feature-table-hashed_sirius482.qza\n",
      "Saved FeatureData[Molecules] to: Malpigh_Filter_POS_EtOH80_feature-data_sirius482.qza\n"
     ]
    },
    {
     "name": "stderr",
     "output_type": "stream",
     "text": [
      "bash: line 2: activate: No such file or directory\n",
      "/Users/helenarusso/opt/miniconda3/envs/qiime2-2020.2/lib/python3.6/site-packages/pandas/core/indexing.py:961: FutureWarning: \n",
      "Passing list-likes to .loc or [] with any missing label will raise\n",
      "KeyError in the future, you can use .reindex() as an alternative.\n",
      "\n",
      "See the documentation here:\n",
      "https://pandas.pydata.org/pandas-docs/stable/user_guide/indexing.html#deprecate-loc-reindex-listlike\n",
      "  return getattr(section, self.name)[new_key]\n"
     ]
    }
   ],
   "source": [
    "%%bash \n",
    "\n",
    "source activate qiime2-2020.2\n",
    "#   in case you want to add structural annotations made using MS/MS spectral library matches:\n",
    "#   --i-ms2-matches /path-to-MS2-spectral-matches.qza/ \\\n",
    "#  --i-library-matches MS2-spectral-matches_567f0153d401458ba9ff7964c2a1aa72.qza \\\n",
    "\n",
    "\n",
    "qiime qemistree make-hierarchy \\\n",
    "  --i-csi-results Malpigh_Filter_POS_EtOH80_fingerprints_sirius482.qza \\\n",
    "  --i-feature-tables Malpighiaceae_Filtered_EtOH80_FeatureTable_POS_Qiime2.qza \\\n",
    "  --i-library-matches MS2-spectral-matches_e75bb5058b4e4c84afadc274a0391e20.qza \\\n",
    "  --o-tree Malpigh_Filter_POS_EtOH80_qemistree_sirius482.qza \\\n",
    "  --o-feature-table Malpigh_Filter_POS_EtOH80_feature-table-hashed_sirius482.qza \\\n",
    "  --o-feature-data Malpigh_Filter_POS_EtOH80_feature-data_sirius482.qza \\\n",
    "  --verbose"
   ]
  },
  {
   "cell_type": "code",
   "execution_count": 1,
   "metadata": {},
   "outputs": [
    {
     "name": "stdout",
     "output_type": "stream",
     "text": [
      "Process is terminated.\n"
     ]
    }
   ],
   "source": [
    "%%bash\n",
    "\n",
    "source activate qiime2-2020.2\n",
    "\n",
    "qiime qemistree get-classyfire-taxonomy \\\n",
    "  --i-feature-data Malpigh_Filter_POS_EtOH80_feature-data_sirius482.qza \\\n",
    "  --o-classified-feature-data Malpigh_Filter_EtOH80_POS_Classifyre_feature-data_sirius482.qza"
   ]
  },
  {
   "cell_type": "code",
   "execution_count": 6,
   "metadata": {},
   "outputs": [
    {
     "name": "stdout",
     "output_type": "stream",
     "text": [
      "Imported Malpigh_Filter_EtOH80_POS_CANOPUS_classified-feature-data_sirius482.txt as TSVMoleculesFormat to Malpigh_Filter_EtOH80_POS_CANOPUS_classified-feature-data_sirius482.qza\n"
     ]
    },
    {
     "name": "stderr",
     "output_type": "stream",
     "text": [
      "bash: line 2: activate: No such file or directory\n"
     ]
    }
   ],
   "source": [
    "%%bash\n",
    "\n",
    "source activate qiime2-2020.2\n",
    "#After we classified in, let's say, NPclassifier or CANOPUS, we must import the table as an artifact.\n",
    "\n",
    "qiime tools import \\\n",
    "  --input-path Malpigh_Filter_EtOH80_POS_CANOPUS_classified-feature-data_sirius482.txt \\\n",
    "  --output-path Malpigh_Filter_EtOH80_POS_CANOPUS_classified-feature-data_sirius482.qza \\\n",
    "  --type FeatureData[Molecules]\n"
   ]
  },
  {
   "cell_type": "code",
   "execution_count": 7,
   "metadata": {},
   "outputs": [
    {
     "name": "stdout",
     "output_type": "stream",
     "text": [
      "Saved Phylogeny[Rooted] to: Malpigh_Filter_POS_EtOH80_qemistree_sirius482_canopus_superclass.qza\n"
     ]
    },
    {
     "name": "stderr",
     "output_type": "stream",
     "text": [
      "bash: line 2: activate: No such file or directory\n"
     ]
    }
   ],
   "source": [
    "%%bash\n",
    "\n",
    "source activate qiime2-2020.2\n",
    "\n",
    "qiime qemistree prune-hierarchy \\\n",
    "  --i-feature-data Malpigh_Filter_EtOH80_POS_CANOPUS_classified-feature-data_sirius482.qza \\\n",
    "  --i-tree Malpigh_Filter_POS_EtOH80_qemistree_sirius482.qza \\\n",
    "  --p-column canopus_superclass \\\n",
    "  --o-pruned-tree Malpigh_Filter_POS_EtOH80_qemistree_sirius482_canopus_superclass.qza"
   ]
  },
  {
   "cell_type": "code",
   "execution_count": 25,
   "metadata": {},
   "outputs": [
    {
     "name": "stdout",
     "output_type": "stream",
     "text": [
      "Saved FeatureTable[Frequency] to: Malpighiaceae_EtOH80_NEG_meanceiling_path-to-grouped-feature-table_test_scheme.qza\n"
     ]
    }
   ],
   "source": [
    "%%bash\n",
    "\n",
    "source activate qiime2-2020.2\n",
    "# if we want to add metadata info, to visualize feature abundance barcharts at the tips of the tree (abundance or \n",
    "# relative abundance) of the feature stratified by the sample metadata column of interest.\n",
    "\n",
    "qiime feature-table group \\\n",
    "  --i-table Malpighiaceae_EtOH80_NEG_feature-table-hashed_test_scheme.qza \\\n",
    "  --p-axis sample \\\n",
    "  --m-metadata-file metadata_NEG_EtOH_groups.txt \\\n",
    "  --m-metadata-column ATTRIBUTE_Clade \\\n",
    "  --p-mode mean-ceiling \\\n",
    "  --o-grouped-table Malpighiaceae_EtOH80_NEG_meanceiling_path-to-grouped-feature-table_test_scheme.qza"
   ]
  },
  {
   "cell_type": "code",
   "execution_count": 2,
   "metadata": {},
   "outputs": [
    {
     "name": "stdout",
     "output_type": "stream",
     "text": [
      "Saved Visualization to: Malpigh_Filter_EtOH80_POS_sirius482_metadata_updated_CANOPUS_empress_canopus_superclass.qzv\n"
     ]
    },
    {
     "name": "stderr",
     "output_type": "stream",
     "text": [
      "bash: line 2: activate: No such file or directory\n"
     ]
    }
   ],
   "source": [
    "%%bash\n",
    "\n",
    "source activate qiime2-2020.2\n",
    "#EMPRESS view export\n",
    "\n",
    "qiime empress community-plot \\\n",
    "    --i-tree Malpigh_Filter_POS_EtOH80_qemistree_sirius482_canopus_superclass.qza \\\n",
    "    --i-feature-table Malpigh_Filter_POS_EtOH80_feature-table-hashed_sirius482.qza \\\n",
    "    --p-ignore-missing-samples \\\n",
    "    --p-filter-missing-features \\\n",
    "    --m-sample-metadata-file metadata_POS_EtOH_groups_updated.txt \\\n",
    "    --m-feature-metadata-file Malpigh_Filter_EtOH80_POS_CANOPUS_classified-feature-data_sirius482.qza \\\n",
    "    --o-visualization Malpigh_Filter_EtOH80_POS_sirius482_metadata_updated_CANOPUS_empress_canopus_superclass.qzv"
   ]
  },
  {
   "cell_type": "code",
   "execution_count": 3,
   "metadata": {},
   "outputs": [
    {
     "name": "stdout",
     "output_type": "stream",
     "text": [
      "Exported Test_sirius_fragmentation_trees_sirius482.qza as SiriusDirFmt to directory Test_sirius_fragmentation_trees_sirius482.qza_exported\n"
     ]
    },
    {
     "name": "stderr",
     "output_type": "stream",
     "text": [
      "bash: line 2: activate: No such file or directory\n"
     ]
    }
   ],
   "source": [
    "%%bash\n",
    "\n",
    "source activate qiime2-2020.2\n",
    "#code to export QZA files\n",
    "\n",
    "qiime tools export \\\n",
    "    --input-path Test_sirius_fragmentation_trees_sirius482.qza \\\n",
    "    --output-path Test_sirius_fragmentation_trees_sirius482.qza_exported"
   ]
  },
  {
   "cell_type": "code",
   "execution_count": null,
   "metadata": {},
   "outputs": [],
   "source": []
  }
 ],
 "metadata": {
  "kernelspec": {
   "display_name": "Python 3",
   "language": "python",
   "name": "python3"
  },
  "language_info": {
   "codemirror_mode": {
    "name": "ipython",
    "version": 3
   },
   "file_extension": ".py",
   "mimetype": "text/x-python",
   "name": "python",
   "nbconvert_exporter": "python",
   "pygments_lexer": "ipython3",
   "version": "3.7.6"
  }
 },
 "nbformat": 4,
 "nbformat_minor": 4
}
